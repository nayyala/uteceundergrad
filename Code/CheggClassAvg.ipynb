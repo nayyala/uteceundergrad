{
 "cells": [
  {
   "cell_type": "code",
   "execution_count": 15,
   "metadata": {},
   "outputs": [
    {
     "name": "stdout",
     "output_type": "stream",
     "text": [
      "Please enter name:Nitin\n",
      "Enter a value: 21\n",
      "Enter a value: 21\n",
      "Please enter name:Nikhil\n",
      "Enter a value: 282\n",
      "Enter a value: 28\n",
      "Please enter name:Arthi\n",
      "Enter a value: 21\n",
      "Enter a value: 44\n",
      "Please enter name:Nammu\n",
      "Enter a value: 289\n",
      "Enter a value: 21\n",
      "Please enter name:Krithi\n",
      "Enter a value: 22\n",
      "Enter a value: 11\n",
      "\n",
      "\n",
      "Max score for Nitin is 21\n",
      "Min score for Nitin is 21\n",
      "Average score for Nitin is 21.0\n",
      "Average grade for Nitin is an F\n",
      "\n",
      "\n",
      "\n",
      "\n",
      "Max score for Nikhil is 282\n",
      "Min score for Nikhil is 28\n",
      "Average score for Nikhil is 155.0\n",
      "Average grade for Nikhil is an A\n",
      "\n",
      "\n",
      "\n",
      "\n",
      "Max score for Arthi is 44\n",
      "Min score for Arthi is 21\n",
      "Average score for Arthi is 32.5\n",
      "Average grade for Arthi is an F\n",
      "\n",
      "\n",
      "\n",
      "\n",
      "Max score for Nammu is 289\n",
      "Min score for Nammu is 21\n",
      "Average score for Nammu is 155.0\n",
      "Average grade for Nammu is an A\n",
      "\n",
      "\n",
      "\n",
      "\n",
      "Max score for Krithi is 22\n",
      "Min score for Krithi is 11\n",
      "Average score for Krithi is 16.5\n",
      "Average grade for Krithi is an F\n",
      "\n",
      "\n",
      "The class average is 76.0\n"
     ]
    }
   ],
   "source": [
    "def statistics(n):\n",
    "    classavg = []\n",
    "    for key in n:\n",
    "        print(\"\\n\")\n",
    "        print(\"Max score for \"+key+\" is \"+str(max(n[key])))\n",
    "        print(\"Min score for \"+key+\" is \"+str(min(n[key])))\n",
    "        avg = sum(n[key])/len(n[key])\n",
    "        classavg.append(avg);\n",
    "        print(\"Average score for \"+key+\" is \"+str(avg))\n",
    "        if (avg >= 90):\n",
    "            print(\"Average grade for \"+key+\" is an A\")\n",
    "        elif (avg>=80):\n",
    "            print(\"Average grade for \"+key+\" is a B\")\n",
    "        elif (avg>=70):\n",
    "            print(\"Average grade for \"+key+\" is a C\")\n",
    "        elif (avg>=60):\n",
    "            print(\"Average grade for \"+key+\" is a D\")\n",
    "        else:\n",
    "            print(\"Average grade for \"+key+\" is an F\")\n",
    "        print(\"\\n\")        \n",
    "        \n",
    "    print(\"The class average is \"+str(sum(classavg)/len(classavg)))\n",
    "n = {}\n",
    "for i in range(5):\n",
    "    s = str(input(\"Please enter name:\"))\n",
    "    n[s] = [int(input('Enter a value: ')) for i in range(2)]\n",
    "statistics(n)"
   ]
  },
  {
   "cell_type": "code",
   "execution_count": 7,
   "metadata": {},
   "outputs": [
    {
     "data": {
      "text/plain": [
       "{'Nikhil': [2, 1],\n",
       " 'Krithika': [28, 18],\n",
       " 'Arthi': [21, 22],\n",
       " 'Nitin': [90, 90],\n",
       " 'Tony': [100, 100]}"
      ]
     },
     "execution_count": 7,
     "metadata": {},
     "output_type": "execute_result"
    }
   ],
   "source": []
  },
  {
   "cell_type": "code",
   "execution_count": null,
   "metadata": {},
   "outputs": [],
   "source": []
  }
 ],
 "metadata": {
  "kernelspec": {
   "display_name": "Python 3",
   "language": "python",
   "name": "python3"
  },
  "language_info": {
   "codemirror_mode": {
    "name": "ipython",
    "version": 3
   },
   "file_extension": ".py",
   "mimetype": "text/x-python",
   "name": "python",
   "nbconvert_exporter": "python",
   "pygments_lexer": "ipython3",
   "version": "3.6.5"
  }
 },
 "nbformat": 4,
 "nbformat_minor": 2
}
